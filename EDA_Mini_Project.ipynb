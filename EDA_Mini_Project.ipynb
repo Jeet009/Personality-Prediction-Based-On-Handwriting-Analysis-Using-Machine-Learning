{
 "cells": [
  {
   "cell_type": "code",
   "execution_count": 1,
   "id": "6a155d3d",
   "metadata": {},
   "outputs": [
    {
     "name": "stderr",
     "output_type": "stream",
     "text": [
      "Matplotlib created a temporary config/cache directory at /var/folders/y8/mpkdd_qj1hg7my1cfjddmmx80000gn/T/matplotlib-e4vl4w7x because the default path (/Users/jeetmukherjee/.matplotlib) is not a writable directory; it is highly recommended to set the MPLCONFIGDIR environment variable to a writable directory, in particular to speed up the import of Matplotlib and to better support multiprocessing.\n"
     ]
    }
   ],
   "source": [
    "import pandas as pd\n",
    "import numpy as np\n",
    "import matplotlib.pyplot as plt\n",
    "import seaborn as sns\n",
    "%matplotlib inline"
   ]
  },
  {
   "cell_type": "code",
   "execution_count": 2,
   "id": "592218c9",
   "metadata": {},
   "outputs": [
    {
     "data": {
      "text/html": [
       "<div>\n",
       "<style scoped>\n",
       "    .dataframe tbody tr th:only-of-type {\n",
       "        vertical-align: middle;\n",
       "    }\n",
       "\n",
       "    .dataframe tbody tr th {\n",
       "        vertical-align: top;\n",
       "    }\n",
       "\n",
       "    .dataframe thead th {\n",
       "        text-align: right;\n",
       "    }\n",
       "</style>\n",
       "<table border=\"1\" class=\"dataframe\">\n",
       "  <thead>\n",
       "    <tr style=\"text-align: right;\">\n",
       "      <th></th>\n",
       "      <th>Word Spacing</th>\n",
       "      <th>Size</th>\n",
       "      <th>Pen Pressure</th>\n",
       "      <th>Baseline</th>\n",
       "    </tr>\n",
       "  </thead>\n",
       "  <tbody>\n",
       "    <tr>\n",
       "      <th>0</th>\n",
       "      <td>335.514229</td>\n",
       "      <td>{'Avg Width': 0.15300240732681628, 'Avg Height...</td>\n",
       "      <td>LOW</td>\n",
       "      <td>STRAIGHT</td>\n",
       "    </tr>\n",
       "    <tr>\n",
       "      <th>1</th>\n",
       "      <td>41.000000</td>\n",
       "      <td>{'Avg Width': 0.2556163079033332, 'Avg Height'...</td>\n",
       "      <td>LOW</td>\n",
       "      <td>STRAIGHT</td>\n",
       "    </tr>\n",
       "    <tr>\n",
       "      <th>2</th>\n",
       "      <td>317.858823</td>\n",
       "      <td>{'Avg Width': 0.8670480388806315, 'Avg Height'...</td>\n",
       "      <td>HIGH</td>\n",
       "      <td>STRAIGHT</td>\n",
       "    </tr>\n",
       "    <tr>\n",
       "      <th>3</th>\n",
       "      <td>774.615388</td>\n",
       "      <td>{'Avg Width': 0.3269533337954669, 'Avg Height'...</td>\n",
       "      <td>LOW</td>\n",
       "      <td>STRAIGHT</td>\n",
       "    </tr>\n",
       "    <tr>\n",
       "      <th>4</th>\n",
       "      <td>66.219333</td>\n",
       "      <td>{'Avg Width': 4.461511854589029, 'Avg Height':...</td>\n",
       "      <td>LOW</td>\n",
       "      <td>STRAIGHT</td>\n",
       "    </tr>\n",
       "  </tbody>\n",
       "</table>\n",
       "</div>"
      ],
      "text/plain": [
       "   Word Spacing                                               Size  \\\n",
       "0    335.514229  {'Avg Width': 0.15300240732681628, 'Avg Height...   \n",
       "1     41.000000  {'Avg Width': 0.2556163079033332, 'Avg Height'...   \n",
       "2    317.858823  {'Avg Width': 0.8670480388806315, 'Avg Height'...   \n",
       "3    774.615388  {'Avg Width': 0.3269533337954669, 'Avg Height'...   \n",
       "4     66.219333  {'Avg Width': 4.461511854589029, 'Avg Height':...   \n",
       "\n",
       "  Pen Pressure  Baseline  \n",
       "0          LOW  STRAIGHT  \n",
       "1          LOW  STRAIGHT  \n",
       "2         HIGH  STRAIGHT  \n",
       "3          LOW  STRAIGHT  \n",
       "4          LOW  STRAIGHT  "
      ]
     },
     "execution_count": 2,
     "metadata": {},
     "output_type": "execute_result"
    }
   ],
   "source": [
    "#DAY ONE\n",
    "# dataset = pd.read_csv('data.csv')\n",
    "# # dataset.drop('Unnamed: 0', axis=1, inplace=True)\n",
    "# del dataset['Unnamed: 0']\n",
    "# dataset.head()"
   ]
  },
  {
   "cell_type": "code",
   "execution_count": 3,
   "id": "315c3535",
   "metadata": {},
   "outputs": [],
   "source": [
    "# dataset.to_csv('clear_dataset_one.csv', index=False)"
   ]
  },
  {
   "cell_type": "code",
   "execution_count": 4,
   "id": "8685ca44",
   "metadata": {},
   "outputs": [
    {
     "data": {
      "text/html": [
       "<div>\n",
       "<style scoped>\n",
       "    .dataframe tbody tr th:only-of-type {\n",
       "        vertical-align: middle;\n",
       "    }\n",
       "\n",
       "    .dataframe tbody tr th {\n",
       "        vertical-align: top;\n",
       "    }\n",
       "\n",
       "    .dataframe thead th {\n",
       "        text-align: right;\n",
       "    }\n",
       "</style>\n",
       "<table border=\"1\" class=\"dataframe\">\n",
       "  <thead>\n",
       "    <tr style=\"text-align: right;\">\n",
       "      <th></th>\n",
       "      <th>Word Spacing</th>\n",
       "      <th>Size</th>\n",
       "      <th>Pen Pressure</th>\n",
       "      <th>Baseline</th>\n",
       "    </tr>\n",
       "  </thead>\n",
       "  <tbody>\n",
       "    <tr>\n",
       "      <th>0</th>\n",
       "      <td>335.514229</td>\n",
       "      <td>{'Avg Width': 0.15300240732681628, 'Avg Height...</td>\n",
       "      <td>LOW</td>\n",
       "      <td>STRAIGHT</td>\n",
       "    </tr>\n",
       "    <tr>\n",
       "      <th>1</th>\n",
       "      <td>41.000000</td>\n",
       "      <td>{'Avg Width': 0.2556163079033332, 'Avg Height'...</td>\n",
       "      <td>LOW</td>\n",
       "      <td>STRAIGHT</td>\n",
       "    </tr>\n",
       "    <tr>\n",
       "      <th>2</th>\n",
       "      <td>317.858823</td>\n",
       "      <td>{'Avg Width': 0.8670480388806315, 'Avg Height'...</td>\n",
       "      <td>HIGH</td>\n",
       "      <td>STRAIGHT</td>\n",
       "    </tr>\n",
       "    <tr>\n",
       "      <th>3</th>\n",
       "      <td>774.615388</td>\n",
       "      <td>{'Avg Width': 0.3269533337954669, 'Avg Height'...</td>\n",
       "      <td>LOW</td>\n",
       "      <td>STRAIGHT</td>\n",
       "    </tr>\n",
       "    <tr>\n",
       "      <th>4</th>\n",
       "      <td>66.219333</td>\n",
       "      <td>{'Avg Width': 4.461511854589029, 'Avg Height':...</td>\n",
       "      <td>LOW</td>\n",
       "      <td>STRAIGHT</td>\n",
       "    </tr>\n",
       "  </tbody>\n",
       "</table>\n",
       "</div>"
      ],
      "text/plain": [
       "   Word Spacing                                               Size  \\\n",
       "0    335.514229  {'Avg Width': 0.15300240732681628, 'Avg Height...   \n",
       "1     41.000000  {'Avg Width': 0.2556163079033332, 'Avg Height'...   \n",
       "2    317.858823  {'Avg Width': 0.8670480388806315, 'Avg Height'...   \n",
       "3    774.615388  {'Avg Width': 0.3269533337954669, 'Avg Height'...   \n",
       "4     66.219333  {'Avg Width': 4.461511854589029, 'Avg Height':...   \n",
       "\n",
       "  Pen Pressure  Baseline  \n",
       "0          LOW  STRAIGHT  \n",
       "1          LOW  STRAIGHT  \n",
       "2         HIGH  STRAIGHT  \n",
       "3          LOW  STRAIGHT  \n",
       "4          LOW  STRAIGHT  "
      ]
     },
     "execution_count": 4,
     "metadata": {},
     "output_type": "execute_result"
    }
   ],
   "source": [
    "df = pd.read_csv('clear_dataset_one.csv')\n",
    "df.head()"
   ]
  },
  {
   "cell_type": "code",
   "execution_count": 6,
   "id": "91b90867",
   "metadata": {},
   "outputs": [
    {
     "data": {
      "text/plain": [
       "<AxesSubplot:>"
      ]
     },
     "execution_count": 6,
     "metadata": {},
     "output_type": "execute_result"
    },
    {
     "data": {
      "image/png": "[encoded data removed]",
      "text/plain": [
       "<Figure size 432x288 with 2 Axes>"
      ]
     },
     "metadata": {
      "needs_background": "light"
     },
     "output_type": "display_data"
    }
   ],
   "source": [
    "df.head(100)\n",
    "sns.heatmap(df.isnull(), yticklabels=False)"
   ]
  },
  {
   "cell_type": "code",
   "execution_count": 24,
   "id": "82643aa9",
   "metadata": {},
   "outputs": [
    {
     "data": {
      "text/plain": [
       "(4884, 4)"
      ]
     },
     "execution_count": 24,
     "metadata": {},
     "output_type": "execute_result"
    }
   ],
   "source": [
    "not_null = pd.notnull(df[\"Size\"])\n",
    "df[not_null].shape"
   ]
  },
  {
   "cell_type": "code",
   "execution_count": 25,
   "id": "c8526bd8",
   "metadata": {},
   "outputs": [
    {
     "data": {
      "text/plain": [
       "(3735, 4)"
      ]
     },
     "execution_count": 25,
     "metadata": {},
     "output_type": "execute_result"
    }
   ],
   "source": [
    "not_null = pd.notnull(df[\"Word Spacing\"])\n",
    "df[not_null].shape"
   ]
  },
  {
   "cell_type": "code",
   "execution_count": 26,
   "id": "39707f52",
   "metadata": {},
   "outputs": [
    {
     "data": {
      "text/plain": [
       "(4012, 4)"
      ]
     },
     "execution_count": 26,
     "metadata": {},
     "output_type": "execute_result"
    }
   ],
   "source": [
    "not_null = pd.notnull(df[\"Baseline\"])\n",
    "df[not_null].shape"
   ]
  },
  {
   "cell_type": "code",
   "execution_count": 27,
   "id": "6d6620a3",
   "metadata": {},
   "outputs": [
    {
     "data": {
      "text/plain": [
       "(4899, 4)"
      ]
     },
     "execution_count": 27,
     "metadata": {},
     "output_type": "execute_result"
    }
   ],
   "source": [
    "not_null = pd.notnull(df[\"Pen Pressure\"])\n",
    "df[not_null].shape"
   ]
  },
  {
   "cell_type": "code",
   "execution_count": 42,
   "id": "b2c5e01a",
   "metadata": {},
   "outputs": [
    {
     "data": {
      "text/plain": [
       "4382.5"
      ]
     },
     "execution_count": 42,
     "metadata": {},
     "output_type": "execute_result"
    }
   ],
   "source": [
    "np.mean([4884, 3735, 4012, 4899])"
   ]
  },
  {
   "cell_type": "code",
   "execution_count": 46,
   "id": "74c52c09",
   "metadata": {},
   "outputs": [
    {
     "data": {
      "text/html": [
       "<div>\n",
       "<style scoped>\n",
       "    .dataframe tbody tr th:only-of-type {\n",
       "        vertical-align: middle;\n",
       "    }\n",
       "\n",
       "    .dataframe tbody tr th {\n",
       "        vertical-align: top;\n",
       "    }\n",
       "\n",
       "    .dataframe thead th {\n",
       "        text-align: right;\n",
       "    }\n",
       "</style>\n",
       "<table border=\"1\" class=\"dataframe\">\n",
       "  <thead>\n",
       "    <tr style=\"text-align: right;\">\n",
       "      <th></th>\n",
       "      <th>Word Spacing</th>\n",
       "      <th>Size</th>\n",
       "      <th>Pen Pressure</th>\n",
       "      <th>Baseline</th>\n",
       "    </tr>\n",
       "  </thead>\n",
       "  <tbody>\n",
       "    <tr>\n",
       "      <th>0</th>\n",
       "      <td>335.514229</td>\n",
       "      <td>{'Avg Width': 0.15300240732681628, 'Avg Height...</td>\n",
       "      <td>LOW</td>\n",
       "      <td>STRAIGHT</td>\n",
       "    </tr>\n",
       "    <tr>\n",
       "      <th>1</th>\n",
       "      <td>41.000000</td>\n",
       "      <td>{'Avg Width': 0.2556163079033332, 'Avg Height'...</td>\n",
       "      <td>LOW</td>\n",
       "      <td>STRAIGHT</td>\n",
       "    </tr>\n",
       "    <tr>\n",
       "      <th>2</th>\n",
       "      <td>317.858823</td>\n",
       "      <td>{'Avg Width': 0.8670480388806315, 'Avg Height'...</td>\n",
       "      <td>HIGH</td>\n",
       "      <td>STRAIGHT</td>\n",
       "    </tr>\n",
       "    <tr>\n",
       "      <th>3</th>\n",
       "      <td>774.615388</td>\n",
       "      <td>{'Avg Width': 0.3269533337954669, 'Avg Height'...</td>\n",
       "      <td>LOW</td>\n",
       "      <td>STRAIGHT</td>\n",
       "    </tr>\n",
       "    <tr>\n",
       "      <th>4</th>\n",
       "      <td>66.219333</td>\n",
       "      <td>{'Avg Width': 4.461511854589029, 'Avg Height':...</td>\n",
       "      <td>LOW</td>\n",
       "      <td>STRAIGHT</td>\n",
       "    </tr>\n",
       "    <tr>\n",
       "      <th>...</th>\n",
       "      <td>...</td>\n",
       "      <td>...</td>\n",
       "      <td>...</td>\n",
       "      <td>...</td>\n",
       "    </tr>\n",
       "    <tr>\n",
       "      <th>4295</th>\n",
       "      <td>NaN</td>\n",
       "      <td>{'Avg Width': 0.47144128648017086, 'Avg Height...</td>\n",
       "      <td>HIGH</td>\n",
       "      <td>NaN</td>\n",
       "    </tr>\n",
       "    <tr>\n",
       "      <th>4296</th>\n",
       "      <td>NaN</td>\n",
       "      <td>{'Avg Width': 1.6751561137028625, 'Avg Height'...</td>\n",
       "      <td>HIGH</td>\n",
       "      <td>NaN</td>\n",
       "    </tr>\n",
       "    <tr>\n",
       "      <th>4297</th>\n",
       "      <td>NaN</td>\n",
       "      <td>{'Avg Width': 1.3304399131689955, 'Avg Height'...</td>\n",
       "      <td>HIGH</td>\n",
       "      <td>NaN</td>\n",
       "    </tr>\n",
       "    <tr>\n",
       "      <th>4298</th>\n",
       "      <td>NaN</td>\n",
       "      <td>{'Avg Width': 0.21503969210326776, 'Avg Height...</td>\n",
       "      <td>LOW</td>\n",
       "      <td>NaN</td>\n",
       "    </tr>\n",
       "    <tr>\n",
       "      <th>4299</th>\n",
       "      <td>NaN</td>\n",
       "      <td>{'Avg Width': 0.3626213445841497, 'Avg Height'...</td>\n",
       "      <td>HIGH</td>\n",
       "      <td>NaN</td>\n",
       "    </tr>\n",
       "  </tbody>\n",
       "</table>\n",
       "<p>4300 rows × 4 columns</p>\n",
       "</div>"
      ],
      "text/plain": [
       "      Word Spacing                                               Size  \\\n",
       "0       335.514229  {'Avg Width': 0.15300240732681628, 'Avg Height...   \n",
       "1        41.000000  {'Avg Width': 0.2556163079033332, 'Avg Height'...   \n",
       "2       317.858823  {'Avg Width': 0.8670480388806315, 'Avg Height'...   \n",
       "3       774.615388  {'Avg Width': 0.3269533337954669, 'Avg Height'...   \n",
       "4        66.219333  {'Avg Width': 4.461511854589029, 'Avg Height':...   \n",
       "...            ...                                                ...   \n",
       "4295           NaN  {'Avg Width': 0.47144128648017086, 'Avg Height...   \n",
       "4296           NaN  {'Avg Width': 1.6751561137028625, 'Avg Height'...   \n",
       "4297           NaN  {'Avg Width': 1.3304399131689955, 'Avg Height'...   \n",
       "4298           NaN  {'Avg Width': 0.21503969210326776, 'Avg Height...   \n",
       "4299           NaN  {'Avg Width': 0.3626213445841497, 'Avg Height'...   \n",
       "\n",
       "     Pen Pressure  Baseline  \n",
       "0             LOW  STRAIGHT  \n",
       "1             LOW  STRAIGHT  \n",
       "2            HIGH  STRAIGHT  \n",
       "3             LOW  STRAIGHT  \n",
       "4             LOW  STRAIGHT  \n",
       "...           ...       ...  \n",
       "4295         HIGH       NaN  \n",
       "4296         HIGH       NaN  \n",
       "4297         HIGH       NaN  \n",
       "4298          LOW       NaN  \n",
       "4299         HIGH       NaN  \n",
       "\n",
       "[4300 rows x 4 columns]"
      ]
     },
     "execution_count": 46,
     "metadata": {},
     "output_type": "execute_result"
    }
   ],
   "source": [
    "df.head(4300)"
   ]
  },
  {
   "cell_type": "code",
   "execution_count": 2,
   "id": "85f5b6a9",
   "metadata": {},
   "outputs": [
    {
     "name": "stderr",
     "output_type": "stream",
     "text": [
      "Matplotlib created a temporary config/cache directory at /var/folders/y8/mpkdd_qj1hg7my1cfjddmmx80000gn/T/matplotlib-dzh1s3o7 because the default path (/Users/jeetmukherjee/.matplotlib) is not a writable directory; it is highly recommended to set the MPLCONFIGDIR environment variable to a writable directory, in particular to speed up the import of Matplotlib and to better support multiprocessing.\n"
     ]
    },
    {
     "data": {
      "text/html": [
       "<div>\n",
       "<style scoped>\n",
       "    .dataframe tbody tr th:only-of-type {\n",
       "        vertical-align: middle;\n",
       "    }\n",
       "\n",
       "    .dataframe tbody tr th {\n",
       "        vertical-align: top;\n",
       "    }\n",
       "\n",
       "    .dataframe thead th {\n",
       "        text-align: right;\n",
       "    }\n",
       "</style>\n",
       "<table border=\"1\" class=\"dataframe\">\n",
       "  <thead>\n",
       "    <tr style=\"text-align: right;\">\n",
       "      <th></th>\n",
       "      <th>Word Spacing</th>\n",
       "      <th>Size</th>\n",
       "      <th>Pen Pressure</th>\n",
       "      <th>Baseline</th>\n",
       "    </tr>\n",
       "  </thead>\n",
       "  <tbody>\n",
       "    <tr>\n",
       "      <th>0</th>\n",
       "      <td>335.514229</td>\n",
       "      <td>{'Avg Width': 0.15300240732681628, 'Avg Height...</td>\n",
       "      <td>LOW</td>\n",
       "      <td>STRAIGHT</td>\n",
       "    </tr>\n",
       "    <tr>\n",
       "      <th>1</th>\n",
       "      <td>41.000000</td>\n",
       "      <td>{'Avg Width': 0.2556163079033332, 'Avg Height'...</td>\n",
       "      <td>LOW</td>\n",
       "      <td>STRAIGHT</td>\n",
       "    </tr>\n",
       "    <tr>\n",
       "      <th>2</th>\n",
       "      <td>317.858823</td>\n",
       "      <td>{'Avg Width': 0.8670480388806315, 'Avg Height'...</td>\n",
       "      <td>HIGH</td>\n",
       "      <td>STRAIGHT</td>\n",
       "    </tr>\n",
       "    <tr>\n",
       "      <th>3</th>\n",
       "      <td>774.615388</td>\n",
       "      <td>{'Avg Width': 0.3269533337954669, 'Avg Height'...</td>\n",
       "      <td>LOW</td>\n",
       "      <td>STRAIGHT</td>\n",
       "    </tr>\n",
       "    <tr>\n",
       "      <th>4</th>\n",
       "      <td>66.219333</td>\n",
       "      <td>{'Avg Width': 4.461511854589029, 'Avg Height':...</td>\n",
       "      <td>LOW</td>\n",
       "      <td>STRAIGHT</td>\n",
       "    </tr>\n",
       "  </tbody>\n",
       "</table>\n",
       "</div>"
      ],
      "text/plain": [
       "   Word Spacing                                               Size  \\\n",
       "0    335.514229  {'Avg Width': 0.15300240732681628, 'Avg Height...   \n",
       "1     41.000000  {'Avg Width': 0.2556163079033332, 'Avg Height'...   \n",
       "2    317.858823  {'Avg Width': 0.8670480388806315, 'Avg Height'...   \n",
       "3    774.615388  {'Avg Width': 0.3269533337954669, 'Avg Height'...   \n",
       "4     66.219333  {'Avg Width': 4.461511854589029, 'Avg Height':...   \n",
       "\n",
       "  Pen Pressure  Baseline  \n",
       "0          LOW  STRAIGHT  \n",
       "1          LOW  STRAIGHT  \n",
       "2         HIGH  STRAIGHT  \n",
       "3          LOW  STRAIGHT  \n",
       "4          LOW  STRAIGHT  "
      ]
     },
     "execution_count": 2,
     "metadata": {},
     "output_type": "execute_result"
    }
   ],
   "source": [
    "#DAYTWO\n",
    "import pandas as pd\n",
    "import numpy as np\n",
    "import matplotlib.pyplot as plt\n",
    "import seaborn as sns\n",
    "from pandas_profiling import ProfileReport\n",
    "%matplotlib inline\n",
    "df = pd.read_csv('clear_dataset_one.csv')\n",
    "df.head()"
   ]
  },
  {
   "cell_type": "code",
   "execution_count": 30,
   "id": "77647945",
   "metadata": {},
   "outputs": [
    {
     "data": {
      "text/plain": [
       "(4000, 4)"
      ]
     },
     "execution_count": 30,
     "metadata": {},
     "output_type": "execute_result"
    }
   ],
   "source": [
    "df.drop(df.index[4000:], inplace=True)\n",
    "df.shape"
   ]
  },
  {
   "cell_type": "code",
   "execution_count": 31,
   "id": "1e59b881",
   "metadata": {},
   "outputs": [],
   "source": [
    "data_report = ProfileReport(df, title=\"Pandas Profiling Report Of Data\")"
   ]
  },
  {
   "cell_type": "code",
   "execution_count": 32,
   "id": "34348f78",
   "metadata": {},
   "outputs": [
    {
     "data": {
      "application/vnd.jupyter.widget-view+json": {
       "model_id": "a1cf16d7dbb143dbb1f4c769482d7033",
       "version_major": 2,
       "version_minor": 0
      },
      "text/plain": [
       "Summarize dataset:   0%|          | 0/5 [00:00<?, ?it/s]"
      ]
     },
     "metadata": {},
     "output_type": "display_data"
    },
    {
     "data": {
      "application/vnd.jupyter.widget-view+json": {
       "model_id": "a55a5cc46a4e4c3da292a21ff346f924",
       "version_major": 2,
       "version_minor": 0
      },
      "text/plain": [
       "Generate report structure:   0%|          | 0/1 [00:00<?, ?it/s]"
      ]
     },
     "metadata": {},
     "output_type": "display_data"
    },
    {
     "data": {
      "application/vnd.jupyter.widget-view+json": {
       "model_id": "",
       "version_major": 2,
       "version_minor": 0
      },
      "text/plain": [
       "Render widgets:   0%|          | 0/1 [00:00<?, ?it/s]"
      ]
     },
     "metadata": {},
     "output_type": "display_data"
    },
    {
     "data": {
      "application/vnd.jupyter.widget-view+json": {
       "model_id": "227bf695bf254af29c5b91c3a353820c",
       "version_major": 2,
       "version_minor": 0
      },
      "text/plain": [
       "VBox(children=(Tab(children=(Tab(children=(GridBox(children=(VBox(children=(GridspecLayout(children=(HTML(valu…"
      ]
     },
     "metadata": {},
     "output_type": "display_data"
    }
   ],
   "source": [
    "data_report.to_widgets()"
   ]
  },
  {
   "cell_type": "code",
   "execution_count": 33,
   "id": "42eaea05",
   "metadata": {},
   "outputs": [
    {
     "data": {
      "application/vnd.jupyter.widget-view+json": {
       "model_id": "295c06d859ce480c96561b43c52a3abf",
       "version_major": 2,
       "version_minor": 0
      },
      "text/plain": [
       "Render HTML:   0%|          | 0/1 [00:00<?, ?it/s]"
      ]
     },
     "metadata": {},
     "output_type": "display_data"
    },
    {
     "data": {
      "application/vnd.jupyter.widget-view+json": {
       "model_id": "9a1873ebd1e74859aafa09546a3d600b",
       "version_major": 2,
       "version_minor": 0
      },
      "text/plain": [
       "Export report to file:   0%|          | 0/1 [00:00<?, ?it/s]"
      ]
     },
     "metadata": {},
     "output_type": "display_data"
    }
   ],
   "source": [
    "df.to_csv('clear_dataset_two.csv', index=False)\n",
    "data_report.to_file(\"data_report_one.html\")"
   ]
  },
  {
   "cell_type": "code",
   "execution_count": 63,
   "id": "b88fbfda",
   "metadata": {},
   "outputs": [
    {
     "data": {
      "text/plain": [
       "336.6973514067866"
      ]
     },
     "execution_count": 63,
     "metadata": {},
     "output_type": "execute_result"
    }
   ],
   "source": [
    "df1 = pd.read_csv('clear_dataset_two.csv')\n",
    "np.mean(df1['Word Spacing'])"
   ]
  },
  {
   "cell_type": "code",
   "execution_count": 74,
   "id": "34b110e2",
   "metadata": {},
   "outputs": [
    {
     "data": {
      "text/html": [
       "<div>\n",
       "<style scoped>\n",
       "    .dataframe tbody tr th:only-of-type {\n",
       "        vertical-align: middle;\n",
       "    }\n",
       "\n",
       "    .dataframe tbody tr th {\n",
       "        vertical-align: top;\n",
       "    }\n",
       "\n",
       "    .dataframe thead th {\n",
       "        text-align: right;\n",
       "    }\n",
       "</style>\n",
       "<table border=\"1\" class=\"dataframe\">\n",
       "  <thead>\n",
       "    <tr style=\"text-align: right;\">\n",
       "      <th></th>\n",
       "      <th>Word Spacing</th>\n",
       "      <th>Size</th>\n",
       "      <th>Pen Pressure</th>\n",
       "      <th>Baseline</th>\n",
       "    </tr>\n",
       "  </thead>\n",
       "  <tbody>\n",
       "    <tr>\n",
       "      <th>0</th>\n",
       "      <td>335.514229</td>\n",
       "      <td>{'Avg Width': 0.15300240732681628, 'Avg Height...</td>\n",
       "      <td>LOW</td>\n",
       "      <td>STRAIGHT</td>\n",
       "    </tr>\n",
       "    <tr>\n",
       "      <th>1</th>\n",
       "      <td>41.000000</td>\n",
       "      <td>{'Avg Width': 0.2556163079033332, 'Avg Height'...</td>\n",
       "      <td>LOW</td>\n",
       "      <td>STRAIGHT</td>\n",
       "    </tr>\n",
       "    <tr>\n",
       "      <th>2</th>\n",
       "      <td>317.858823</td>\n",
       "      <td>{'Avg Width': 0.8670480388806315, 'Avg Height'...</td>\n",
       "      <td>HIGH</td>\n",
       "      <td>STRAIGHT</td>\n",
       "    </tr>\n",
       "    <tr>\n",
       "      <th>3</th>\n",
       "      <td>774.615388</td>\n",
       "      <td>{'Avg Width': 0.3269533337954669, 'Avg Height'...</td>\n",
       "      <td>LOW</td>\n",
       "      <td>STRAIGHT</td>\n",
       "    </tr>\n",
       "    <tr>\n",
       "      <th>4</th>\n",
       "      <td>66.219333</td>\n",
       "      <td>{'Avg Width': 4.461511854589029, 'Avg Height':...</td>\n",
       "      <td>LOW</td>\n",
       "      <td>STRAIGHT</td>\n",
       "    </tr>\n",
       "    <tr>\n",
       "      <th>...</th>\n",
       "      <td>...</td>\n",
       "      <td>...</td>\n",
       "      <td>...</td>\n",
       "      <td>...</td>\n",
       "    </tr>\n",
       "    <tr>\n",
       "      <th>3995</th>\n",
       "      <td>150.475073</td>\n",
       "      <td>{'Avg Width': 0.6931745142157459, 'Avg Height'...</td>\n",
       "      <td>LOW</td>\n",
       "      <td>STRAIGHT</td>\n",
       "    </tr>\n",
       "    <tr>\n",
       "      <th>3996</th>\n",
       "      <td>150.475073</td>\n",
       "      <td>{'Avg Width': 0.9462654361506254, 'Avg Height'...</td>\n",
       "      <td>HIGH</td>\n",
       "      <td>STRAIGHT</td>\n",
       "    </tr>\n",
       "    <tr>\n",
       "      <th>3997</th>\n",
       "      <td>150.475073</td>\n",
       "      <td>{'Avg Width': 1.4205670029105906, 'Avg Height'...</td>\n",
       "      <td>LOW</td>\n",
       "      <td>STRAIGHT</td>\n",
       "    </tr>\n",
       "    <tr>\n",
       "      <th>3998</th>\n",
       "      <td>150.475073</td>\n",
       "      <td>{'Avg Width': 0.15915521163240814, 'Avg Height...</td>\n",
       "      <td>HIGH</td>\n",
       "      <td>DESCENDING</td>\n",
       "    </tr>\n",
       "    <tr>\n",
       "      <th>3999</th>\n",
       "      <td>150.475073</td>\n",
       "      <td>{'Avg Width': 0.4243854158106885, 'Avg Height'...</td>\n",
       "      <td>HIGH</td>\n",
       "      <td>STRAIGHT</td>\n",
       "    </tr>\n",
       "  </tbody>\n",
       "</table>\n",
       "<p>4000 rows × 4 columns</p>\n",
       "</div>"
      ],
      "text/plain": [
       "      Word Spacing                                               Size  \\\n",
       "0       335.514229  {'Avg Width': 0.15300240732681628, 'Avg Height...   \n",
       "1        41.000000  {'Avg Width': 0.2556163079033332, 'Avg Height'...   \n",
       "2       317.858823  {'Avg Width': 0.8670480388806315, 'Avg Height'...   \n",
       "3       774.615388  {'Avg Width': 0.3269533337954669, 'Avg Height'...   \n",
       "4        66.219333  {'Avg Width': 4.461511854589029, 'Avg Height':...   \n",
       "...            ...                                                ...   \n",
       "3995    150.475073  {'Avg Width': 0.6931745142157459, 'Avg Height'...   \n",
       "3996    150.475073  {'Avg Width': 0.9462654361506254, 'Avg Height'...   \n",
       "3997    150.475073  {'Avg Width': 1.4205670029105906, 'Avg Height'...   \n",
       "3998    150.475073  {'Avg Width': 0.15915521163240814, 'Avg Height...   \n",
       "3999    150.475073  {'Avg Width': 0.4243854158106885, 'Avg Height'...   \n",
       "\n",
       "     Pen Pressure    Baseline  \n",
       "0             LOW    STRAIGHT  \n",
       "1             LOW    STRAIGHT  \n",
       "2            HIGH    STRAIGHT  \n",
       "3             LOW    STRAIGHT  \n",
       "4             LOW    STRAIGHT  \n",
       "...           ...         ...  \n",
       "3995          LOW    STRAIGHT  \n",
       "3996         HIGH    STRAIGHT  \n",
       "3997          LOW    STRAIGHT  \n",
       "3998         HIGH  DESCENDING  \n",
       "3999         HIGH    STRAIGHT  \n",
       "\n",
       "[4000 rows x 4 columns]"
      ]
     },
     "execution_count": 74,
     "metadata": {},
     "output_type": "execute_result"
    }
   ],
   "source": [
    "# df1['Word Spacing'] = df1['Word Spacing'].interpolate(method='slinear')\n",
    "df2 = df1.fillna(value=df['Word Spacing'].std())\n",
    "df2.head(5000)"
   ]
  },
  {
   "cell_type": "code",
   "execution_count": 75,
   "id": "c9847fdc",
   "metadata": {},
   "outputs": [],
   "source": [
    "df2.to_csv('clear_dataset_three.csv', index=False)"
   ]
  },
  {
   "cell_type": "code",
   "execution_count": 85,
   "id": "f41dc58d",
   "metadata": {},
   "outputs": [],
   "source": [
    "df3 = pd.read_csv('clear_dataset_three.csv')"
   ]
  },
  {
   "cell_type": "code",
   "execution_count": 86,
   "id": "2120ccb1",
   "metadata": {
    "scrolled": true
   },
   "outputs": [
    {
     "data": {
      "text/html": [
       "<div>\n",
       "<style scoped>\n",
       "    .dataframe tbody tr th:only-of-type {\n",
       "        vertical-align: middle;\n",
       "    }\n",
       "\n",
       "    .dataframe tbody tr th {\n",
       "        vertical-align: top;\n",
       "    }\n",
       "\n",
       "    .dataframe thead th {\n",
       "        text-align: right;\n",
       "    }\n",
       "</style>\n",
       "<table border=\"1\" class=\"dataframe\">\n",
       "  <thead>\n",
       "    <tr style=\"text-align: right;\">\n",
       "      <th></th>\n",
       "      <th>Word Spacing</th>\n",
       "      <th>Size</th>\n",
       "      <th>Pen Pressure</th>\n",
       "      <th>Baseline</th>\n",
       "    </tr>\n",
       "  </thead>\n",
       "  <tbody>\n",
       "    <tr>\n",
       "      <th>0</th>\n",
       "      <td>335.514229</td>\n",
       "      <td>{'Avg Width': 0.15300240732681628, 'Avg Height...</td>\n",
       "      <td>LOW</td>\n",
       "      <td>STRAIGHT</td>\n",
       "    </tr>\n",
       "    <tr>\n",
       "      <th>1</th>\n",
       "      <td>41.000000</td>\n",
       "      <td>{'Avg Width': 0.2556163079033332, 'Avg Height'...</td>\n",
       "      <td>LOW</td>\n",
       "      <td>STRAIGHT</td>\n",
       "    </tr>\n",
       "    <tr>\n",
       "      <th>2</th>\n",
       "      <td>317.858823</td>\n",
       "      <td>{'Avg Width': 0.8670480388806315, 'Avg Height'...</td>\n",
       "      <td>HIGH</td>\n",
       "      <td>STRAIGHT</td>\n",
       "    </tr>\n",
       "    <tr>\n",
       "      <th>3</th>\n",
       "      <td>774.615388</td>\n",
       "      <td>{'Avg Width': 0.3269533337954669, 'Avg Height'...</td>\n",
       "      <td>LOW</td>\n",
       "      <td>STRAIGHT</td>\n",
       "    </tr>\n",
       "    <tr>\n",
       "      <th>4</th>\n",
       "      <td>66.219333</td>\n",
       "      <td>{'Avg Width': 4.461511854589029, 'Avg Height':...</td>\n",
       "      <td>LOW</td>\n",
       "      <td>STRAIGHT</td>\n",
       "    </tr>\n",
       "    <tr>\n",
       "      <th>...</th>\n",
       "      <td>...</td>\n",
       "      <td>...</td>\n",
       "      <td>...</td>\n",
       "      <td>...</td>\n",
       "    </tr>\n",
       "    <tr>\n",
       "      <th>3995</th>\n",
       "      <td>150.475073</td>\n",
       "      <td>{'Avg Width': 0.6931745142157459, 'Avg Height'...</td>\n",
       "      <td>LOW</td>\n",
       "      <td>STRAIGHT</td>\n",
       "    </tr>\n",
       "    <tr>\n",
       "      <th>3996</th>\n",
       "      <td>150.475073</td>\n",
       "      <td>{'Avg Width': 0.9462654361506254, 'Avg Height'...</td>\n",
       "      <td>HIGH</td>\n",
       "      <td>STRAIGHT</td>\n",
       "    </tr>\n",
       "    <tr>\n",
       "      <th>3997</th>\n",
       "      <td>150.475073</td>\n",
       "      <td>{'Avg Width': 1.4205670029105906, 'Avg Height'...</td>\n",
       "      <td>LOW</td>\n",
       "      <td>STRAIGHT</td>\n",
       "    </tr>\n",
       "    <tr>\n",
       "      <th>3998</th>\n",
       "      <td>150.475073</td>\n",
       "      <td>{'Avg Width': 0.15915521163240814, 'Avg Height...</td>\n",
       "      <td>HIGH</td>\n",
       "      <td>DESCENDING</td>\n",
       "    </tr>\n",
       "    <tr>\n",
       "      <th>3999</th>\n",
       "      <td>150.475073</td>\n",
       "      <td>{'Avg Width': 0.4243854158106885, 'Avg Height'...</td>\n",
       "      <td>HIGH</td>\n",
       "      <td>STRAIGHT</td>\n",
       "    </tr>\n",
       "  </tbody>\n",
       "</table>\n",
       "<p>4000 rows × 4 columns</p>\n",
       "</div>"
      ],
      "text/plain": [
       "      Word Spacing                                               Size  \\\n",
       "0       335.514229  {'Avg Width': 0.15300240732681628, 'Avg Height...   \n",
       "1        41.000000  {'Avg Width': 0.2556163079033332, 'Avg Height'...   \n",
       "2       317.858823  {'Avg Width': 0.8670480388806315, 'Avg Height'...   \n",
       "3       774.615388  {'Avg Width': 0.3269533337954669, 'Avg Height'...   \n",
       "4        66.219333  {'Avg Width': 4.461511854589029, 'Avg Height':...   \n",
       "...            ...                                                ...   \n",
       "3995    150.475073  {'Avg Width': 0.6931745142157459, 'Avg Height'...   \n",
       "3996    150.475073  {'Avg Width': 0.9462654361506254, 'Avg Height'...   \n",
       "3997    150.475073  {'Avg Width': 1.4205670029105906, 'Avg Height'...   \n",
       "3998    150.475073  {'Avg Width': 0.15915521163240814, 'Avg Height...   \n",
       "3999    150.475073  {'Avg Width': 0.4243854158106885, 'Avg Height'...   \n",
       "\n",
       "     Pen Pressure    Baseline  \n",
       "0             LOW    STRAIGHT  \n",
       "1             LOW    STRAIGHT  \n",
       "2            HIGH    STRAIGHT  \n",
       "3             LOW    STRAIGHT  \n",
       "4             LOW    STRAIGHT  \n",
       "...           ...         ...  \n",
       "3995          LOW    STRAIGHT  \n",
       "3996         HIGH    STRAIGHT  \n",
       "3997          LOW    STRAIGHT  \n",
       "3998         HIGH  DESCENDING  \n",
       "3999         HIGH    STRAIGHT  \n",
       "\n",
       "[4000 rows x 4 columns]"
      ]
     },
     "execution_count": 86,
     "metadata": {},
     "output_type": "execute_result"
    }
   ],
   "source": [
    "df3.head(5000)"
   ]
  },
  {
   "cell_type": "code",
   "execution_count": 192,
   "id": "789856f1",
   "metadata": {
    "scrolled": true
   },
   "outputs": [
    {
     "data": {
      "text/plain": [
       "1.2402132259889345"
      ]
     },
     "execution_count": 192,
     "metadata": {},
     "output_type": "execute_result"
    },
    {
     "data": {
      "image/png": "[encoded data removed]",
      "text/plain": [
       "<Figure size 432x288 with 1 Axes>"
      ]
     },
     "metadata": {
      "needs_background": "light"
     },
     "output_type": "display_data"
    }
   ],
   "source": [
    "# DAYTHREE\n",
    "dflist = df3['Size'].tolist()\n",
    "avg_height = []\n",
    "for data in dflist:\n",
    "    dfobject = json.loads(data.replace(\"\\'\", \"\\\"\"))\n",
    "    avg_height.append(dfobject['Avg Height'])\n",
    "\n",
    "plt.plot(avg_height)\n",
    "np.mean(avg_height)\n",
    "# print(avg_width)"
   ]
  },
  {
   "cell_type": "code",
   "execution_count": 227,
   "id": "f6f82dd7",
   "metadata": {},
   "outputs": [],
   "source": [
    "word_size_list = []\n",
    "for height in avg_height:\n",
    "    if height > (np.mean(avg_height) + .25):\n",
    "#         print('BIG')\n",
    "        word_size_list.append('BIG')\n",
    "    elif height < (np.mean(avg_height) - .25):\n",
    "#         print('SMALL')\n",
    "        word_size_list.append('SMALL')\n",
    "    else:\n",
    "#         print('NORMAL')\n",
    "        word_size_list.append('NORMAL')\n",
    "        \n",
    "df3['Word Size']=word_size_list"
   ]
  },
  {
   "cell_type": "code",
   "execution_count": 228,
   "id": "807d7cae",
   "metadata": {
    "scrolled": false
   },
   "outputs": [
    {
     "data": {
      "text/html": [
       "<div>\n",
       "<style scoped>\n",
       "    .dataframe tbody tr th:only-of-type {\n",
       "        vertical-align: middle;\n",
       "    }\n",
       "\n",
       "    .dataframe tbody tr th {\n",
       "        vertical-align: top;\n",
       "    }\n",
       "\n",
       "    .dataframe thead th {\n",
       "        text-align: right;\n",
       "    }\n",
       "</style>\n",
       "<table border=\"1\" class=\"dataframe\">\n",
       "  <thead>\n",
       "    <tr style=\"text-align: right;\">\n",
       "      <th></th>\n",
       "      <th>Word Spacing</th>\n",
       "      <th>Size</th>\n",
       "      <th>Pen Pressure</th>\n",
       "      <th>Baseline</th>\n",
       "      <th>Word Size</th>\n",
       "    </tr>\n",
       "  </thead>\n",
       "  <tbody>\n",
       "    <tr>\n",
       "      <th>0</th>\n",
       "      <td>335.514229</td>\n",
       "      <td>{'Avg Width': 0.15300240732681628, 'Avg Height...</td>\n",
       "      <td>LOW</td>\n",
       "      <td>STRAIGHT</td>\n",
       "      <td>SMALL</td>\n",
       "    </tr>\n",
       "    <tr>\n",
       "      <th>1</th>\n",
       "      <td>41.000000</td>\n",
       "      <td>{'Avg Width': 0.2556163079033332, 'Avg Height'...</td>\n",
       "      <td>LOW</td>\n",
       "      <td>STRAIGHT</td>\n",
       "      <td>SMALL</td>\n",
       "    </tr>\n",
       "    <tr>\n",
       "      <th>2</th>\n",
       "      <td>317.858823</td>\n",
       "      <td>{'Avg Width': 0.8670480388806315, 'Avg Height'...</td>\n",
       "      <td>HIGH</td>\n",
       "      <td>STRAIGHT</td>\n",
       "      <td>SMALL</td>\n",
       "    </tr>\n",
       "    <tr>\n",
       "      <th>3</th>\n",
       "      <td>774.615388</td>\n",
       "      <td>{'Avg Width': 0.3269533337954669, 'Avg Height'...</td>\n",
       "      <td>LOW</td>\n",
       "      <td>STRAIGHT</td>\n",
       "      <td>SMALL</td>\n",
       "    </tr>\n",
       "    <tr>\n",
       "      <th>4</th>\n",
       "      <td>66.219333</td>\n",
       "      <td>{'Avg Width': 4.461511854589029, 'Avg Height':...</td>\n",
       "      <td>LOW</td>\n",
       "      <td>STRAIGHT</td>\n",
       "      <td>BIG</td>\n",
       "    </tr>\n",
       "    <tr>\n",
       "      <th>...</th>\n",
       "      <td>...</td>\n",
       "      <td>...</td>\n",
       "      <td>...</td>\n",
       "      <td>...</td>\n",
       "      <td>...</td>\n",
       "    </tr>\n",
       "    <tr>\n",
       "      <th>95</th>\n",
       "      <td>331.400354</td>\n",
       "      <td>{'Avg Width': 0.4389688220097104, 'Avg Height'...</td>\n",
       "      <td>LOW</td>\n",
       "      <td>STRAIGHT</td>\n",
       "      <td>SMALL</td>\n",
       "    </tr>\n",
       "    <tr>\n",
       "      <th>96</th>\n",
       "      <td>74.000000</td>\n",
       "      <td>{'Avg Width': 0.890198094010551, 'Avg Height':...</td>\n",
       "      <td>HIGH</td>\n",
       "      <td>STRAIGHT</td>\n",
       "      <td>NORMAL</td>\n",
       "    </tr>\n",
       "    <tr>\n",
       "      <th>97</th>\n",
       "      <td>205.395495</td>\n",
       "      <td>{'Avg Width': 1.7474623340165472, 'Avg Height'...</td>\n",
       "      <td>LOW</td>\n",
       "      <td>STRAIGHT</td>\n",
       "      <td>NORMAL</td>\n",
       "    </tr>\n",
       "    <tr>\n",
       "      <th>98</th>\n",
       "      <td>306.662897</td>\n",
       "      <td>{'Avg Width': 0.17126799085830577, 'Avg Height...</td>\n",
       "      <td>HIGH</td>\n",
       "      <td>STRAIGHT</td>\n",
       "      <td>SMALL</td>\n",
       "    </tr>\n",
       "    <tr>\n",
       "      <th>99</th>\n",
       "      <td>365.568380</td>\n",
       "      <td>{'Avg Width': 0.9653104706480694, 'Avg Height'...</td>\n",
       "      <td>LOW</td>\n",
       "      <td>STRAIGHT</td>\n",
       "      <td>NORMAL</td>\n",
       "    </tr>\n",
       "  </tbody>\n",
       "</table>\n",
       "<p>100 rows × 5 columns</p>\n",
       "</div>"
      ],
      "text/plain": [
       "    Word Spacing                                               Size  \\\n",
       "0     335.514229  {'Avg Width': 0.15300240732681628, 'Avg Height...   \n",
       "1      41.000000  {'Avg Width': 0.2556163079033332, 'Avg Height'...   \n",
       "2     317.858823  {'Avg Width': 0.8670480388806315, 'Avg Height'...   \n",
       "3     774.615388  {'Avg Width': 0.3269533337954669, 'Avg Height'...   \n",
       "4      66.219333  {'Avg Width': 4.461511854589029, 'Avg Height':...   \n",
       "..           ...                                                ...   \n",
       "95    331.400354  {'Avg Width': 0.4389688220097104, 'Avg Height'...   \n",
       "96     74.000000  {'Avg Width': 0.890198094010551, 'Avg Height':...   \n",
       "97    205.395495  {'Avg Width': 1.7474623340165472, 'Avg Height'...   \n",
       "98    306.662897  {'Avg Width': 0.17126799085830577, 'Avg Height...   \n",
       "99    365.568380  {'Avg Width': 0.9653104706480694, 'Avg Height'...   \n",
       "\n",
       "   Pen Pressure  Baseline Word Size  \n",
       "0           LOW  STRAIGHT     SMALL  \n",
       "1           LOW  STRAIGHT     SMALL  \n",
       "2          HIGH  STRAIGHT     SMALL  \n",
       "3           LOW  STRAIGHT     SMALL  \n",
       "4           LOW  STRAIGHT       BIG  \n",
       "..          ...       ...       ...  \n",
       "95          LOW  STRAIGHT     SMALL  \n",
       "96         HIGH  STRAIGHT    NORMAL  \n",
       "97          LOW  STRAIGHT    NORMAL  \n",
       "98         HIGH  STRAIGHT     SMALL  \n",
       "99          LOW  STRAIGHT    NORMAL  \n",
       "\n",
       "[100 rows x 5 columns]"
      ]
     },
     "execution_count": 228,
     "metadata": {},
     "output_type": "execute_result"
    }
   ],
   "source": [
    "df3.head(100)"
   ]
  },
  {
   "cell_type": "code",
   "execution_count": 229,
   "id": "dc5be4e7",
   "metadata": {},
   "outputs": [
    {
     "data": {
      "text/html": [
       "<div>\n",
       "<style scoped>\n",
       "    .dataframe tbody tr th:only-of-type {\n",
       "        vertical-align: middle;\n",
       "    }\n",
       "\n",
       "    .dataframe tbody tr th {\n",
       "        vertical-align: top;\n",
       "    }\n",
       "\n",
       "    .dataframe thead th {\n",
       "        text-align: right;\n",
       "    }\n",
       "</style>\n",
       "<table border=\"1\" class=\"dataframe\">\n",
       "  <thead>\n",
       "    <tr style=\"text-align: right;\">\n",
       "      <th></th>\n",
       "      <th>Word Spacing</th>\n",
       "      <th>Pen Pressure</th>\n",
       "      <th>Baseline</th>\n",
       "      <th>Word Size</th>\n",
       "    </tr>\n",
       "  </thead>\n",
       "  <tbody>\n",
       "    <tr>\n",
       "      <th>0</th>\n",
       "      <td>335.514229</td>\n",
       "      <td>LOW</td>\n",
       "      <td>STRAIGHT</td>\n",
       "      <td>SMALL</td>\n",
       "    </tr>\n",
       "    <tr>\n",
       "      <th>1</th>\n",
       "      <td>41.000000</td>\n",
       "      <td>LOW</td>\n",
       "      <td>STRAIGHT</td>\n",
       "      <td>SMALL</td>\n",
       "    </tr>\n",
       "    <tr>\n",
       "      <th>2</th>\n",
       "      <td>317.858823</td>\n",
       "      <td>HIGH</td>\n",
       "      <td>STRAIGHT</td>\n",
       "      <td>SMALL</td>\n",
       "    </tr>\n",
       "    <tr>\n",
       "      <th>3</th>\n",
       "      <td>774.615388</td>\n",
       "      <td>LOW</td>\n",
       "      <td>STRAIGHT</td>\n",
       "      <td>SMALL</td>\n",
       "    </tr>\n",
       "    <tr>\n",
       "      <th>4</th>\n",
       "      <td>66.219333</td>\n",
       "      <td>LOW</td>\n",
       "      <td>STRAIGHT</td>\n",
       "      <td>BIG</td>\n",
       "    </tr>\n",
       "  </tbody>\n",
       "</table>\n",
       "</div>"
      ],
      "text/plain": [
       "   Word Spacing Pen Pressure  Baseline Word Size\n",
       "0    335.514229          LOW  STRAIGHT     SMALL\n",
       "1     41.000000          LOW  STRAIGHT     SMALL\n",
       "2    317.858823         HIGH  STRAIGHT     SMALL\n",
       "3    774.615388          LOW  STRAIGHT     SMALL\n",
       "4     66.219333          LOW  STRAIGHT       BIG"
      ]
     },
     "execution_count": 229,
     "metadata": {},
     "output_type": "execute_result"
    }
   ],
   "source": [
    "df3.drop('Size', axis=1, inplace=True)\n",
    "df3.head()"
   ]
  },
  {
   "cell_type": "code",
   "execution_count": 230,
   "id": "c47f81d7",
   "metadata": {},
   "outputs": [],
   "source": [
    "df3.to_csv('clear_dataset_four.csv', index=False)"
   ]
  },
  {
   "cell_type": "code",
   "execution_count": 255,
   "id": "0fd6d9f7",
   "metadata": {},
   "outputs": [
    {
     "data": {
      "text/html": [
       "<div>\n",
       "<style scoped>\n",
       "    .dataframe tbody tr th:only-of-type {\n",
       "        vertical-align: middle;\n",
       "    }\n",
       "\n",
       "    .dataframe tbody tr th {\n",
       "        vertical-align: top;\n",
       "    }\n",
       "\n",
       "    .dataframe thead th {\n",
       "        text-align: right;\n",
       "    }\n",
       "</style>\n",
       "<table border=\"1\" class=\"dataframe\">\n",
       "  <thead>\n",
       "    <tr style=\"text-align: right;\">\n",
       "      <th></th>\n",
       "      <th>Word Spacing</th>\n",
       "      <th>Pen Pressure</th>\n",
       "      <th>Baseline</th>\n",
       "      <th>Word Size</th>\n",
       "    </tr>\n",
       "  </thead>\n",
       "  <tbody>\n",
       "    <tr>\n",
       "      <th>0</th>\n",
       "      <td>335.514229</td>\n",
       "      <td>LOW</td>\n",
       "      <td>STRAIGHT</td>\n",
       "      <td>SMALL</td>\n",
       "    </tr>\n",
       "    <tr>\n",
       "      <th>1</th>\n",
       "      <td>41.000000</td>\n",
       "      <td>LOW</td>\n",
       "      <td>STRAIGHT</td>\n",
       "      <td>SMALL</td>\n",
       "    </tr>\n",
       "    <tr>\n",
       "      <th>2</th>\n",
       "      <td>317.858823</td>\n",
       "      <td>HIGH</td>\n",
       "      <td>STRAIGHT</td>\n",
       "      <td>SMALL</td>\n",
       "    </tr>\n",
       "    <tr>\n",
       "      <th>3</th>\n",
       "      <td>774.615388</td>\n",
       "      <td>LOW</td>\n",
       "      <td>STRAIGHT</td>\n",
       "      <td>SMALL</td>\n",
       "    </tr>\n",
       "    <tr>\n",
       "      <th>4</th>\n",
       "      <td>66.219333</td>\n",
       "      <td>LOW</td>\n",
       "      <td>STRAIGHT</td>\n",
       "      <td>BIG</td>\n",
       "    </tr>\n",
       "    <tr>\n",
       "      <th>5</th>\n",
       "      <td>434.474656</td>\n",
       "      <td>LOW</td>\n",
       "      <td>STRAIGHT</td>\n",
       "      <td>BIG</td>\n",
       "    </tr>\n",
       "    <tr>\n",
       "      <th>6</th>\n",
       "      <td>199.018965</td>\n",
       "      <td>LOW</td>\n",
       "      <td>STRAIGHT</td>\n",
       "      <td>SMALL</td>\n",
       "    </tr>\n",
       "    <tr>\n",
       "      <th>7</th>\n",
       "      <td>404.140964</td>\n",
       "      <td>HIGH</td>\n",
       "      <td>STRAIGHT</td>\n",
       "      <td>NORMAL</td>\n",
       "    </tr>\n",
       "  </tbody>\n",
       "</table>\n",
       "</div>"
      ],
      "text/plain": [
       "   Word Spacing Pen Pressure  Baseline Word Size\n",
       "0    335.514229          LOW  STRAIGHT     SMALL\n",
       "1     41.000000          LOW  STRAIGHT     SMALL\n",
       "2    317.858823         HIGH  STRAIGHT     SMALL\n",
       "3    774.615388          LOW  STRAIGHT     SMALL\n",
       "4     66.219333          LOW  STRAIGHT       BIG\n",
       "5    434.474656          LOW  STRAIGHT       BIG\n",
       "6    199.018965          LOW  STRAIGHT     SMALL\n",
       "7    404.140964         HIGH  STRAIGHT    NORMAL"
      ]
     },
     "execution_count": 255,
     "metadata": {},
     "output_type": "execute_result"
    }
   ],
   "source": [
    "df4 = pd.read_csv('clear_dataset_four.csv')\n",
    "df4.head(8)"
   ]
  },
  {
   "cell_type": "code",
   "execution_count": 265,
   "id": "e1f61483",
   "metadata": {},
   "outputs": [
    {
     "name": "stdout",
     "output_type": "stream",
     "text": [
      "0\n"
     ]
    }
   ],
   "source": [
    "count = 0\n",
    "for i in range (4000):\n",
    "    if df4['Baseline'][i] == 'DECENDING' and df4['Word Size'][i] == 'NORMAL':\n",
    "        count = count + 1\n",
    "\n",
    "print(count)"
   ]
  },
  {
   "cell_type": "code",
   "execution_count": 270,
   "id": "9ebd2b37",
   "metadata": {},
   "outputs": [],
   "source": [
    "merged_df = pd.get_dummies(df4,drop_first=True)"
   ]
  },
  {
   "cell_type": "code",
   "execution_count": 275,
   "id": "a81d861b",
   "metadata": {},
   "outputs": [],
   "source": [
    "merged_df.to_csv('merged.csv', index=False)"
   ]
  },
  {
   "cell_type": "code",
   "execution_count": 276,
   "id": "bb2af853",
   "metadata": {},
   "outputs": [
    {
     "data": {
      "text/html": [
       "<div>\n",
       "<style scoped>\n",
       "    .dataframe tbody tr th:only-of-type {\n",
       "        vertical-align: middle;\n",
       "    }\n",
       "\n",
       "    .dataframe tbody tr th {\n",
       "        vertical-align: top;\n",
       "    }\n",
       "\n",
       "    .dataframe thead th {\n",
       "        text-align: right;\n",
       "    }\n",
       "</style>\n",
       "<table border=\"1\" class=\"dataframe\">\n",
       "  <thead>\n",
       "    <tr style=\"text-align: right;\">\n",
       "      <th></th>\n",
       "      <th>Word Spacing</th>\n",
       "      <th>Pen Pressure_LOW</th>\n",
       "      <th>Baseline_DESCENDING</th>\n",
       "      <th>Baseline_STRAIGHT</th>\n",
       "      <th>Word Size_NORMAL</th>\n",
       "      <th>Word Size_SMALL</th>\n",
       "    </tr>\n",
       "  </thead>\n",
       "  <tbody>\n",
       "    <tr>\n",
       "      <th>0</th>\n",
       "      <td>335.514229</td>\n",
       "      <td>1</td>\n",
       "      <td>0</td>\n",
       "      <td>1</td>\n",
       "      <td>0</td>\n",
       "      <td>1</td>\n",
       "    </tr>\n",
       "    <tr>\n",
       "      <th>1</th>\n",
       "      <td>41.000000</td>\n",
       "      <td>1</td>\n",
       "      <td>0</td>\n",
       "      <td>1</td>\n",
       "      <td>0</td>\n",
       "      <td>1</td>\n",
       "    </tr>\n",
       "    <tr>\n",
       "      <th>2</th>\n",
       "      <td>317.858823</td>\n",
       "      <td>0</td>\n",
       "      <td>0</td>\n",
       "      <td>1</td>\n",
       "      <td>0</td>\n",
       "      <td>1</td>\n",
       "    </tr>\n",
       "    <tr>\n",
       "      <th>3</th>\n",
       "      <td>774.615388</td>\n",
       "      <td>1</td>\n",
       "      <td>0</td>\n",
       "      <td>1</td>\n",
       "      <td>0</td>\n",
       "      <td>1</td>\n",
       "    </tr>\n",
       "    <tr>\n",
       "      <th>4</th>\n",
       "      <td>66.219333</td>\n",
       "      <td>1</td>\n",
       "      <td>0</td>\n",
       "      <td>1</td>\n",
       "      <td>0</td>\n",
       "      <td>0</td>\n",
       "    </tr>\n",
       "  </tbody>\n",
       "</table>\n",
       "</div>"
      ],
      "text/plain": [
       "   Word Spacing  Pen Pressure_LOW  Baseline_DESCENDING  Baseline_STRAIGHT  \\\n",
       "0    335.514229                 1                    0                  1   \n",
       "1     41.000000                 1                    0                  1   \n",
       "2    317.858823                 0                    0                  1   \n",
       "3    774.615388                 1                    0                  1   \n",
       "4     66.219333                 1                    0                  1   \n",
       "\n",
       "   Word Size_NORMAL  Word Size_SMALL  \n",
       "0                 0                1  \n",
       "1                 0                1  \n",
       "2                 0                1  \n",
       "3                 0                1  \n",
       "4                 0                0  "
      ]
     },
     "execution_count": 276,
     "metadata": {},
     "output_type": "execute_result"
    }
   ],
   "source": [
    "merged = pd.read_csv('merged.csv')\n",
    "merged.head()"
   ]
  },
  {
   "cell_type": "code",
   "execution_count": 278,
   "id": "3e657353",
   "metadata": {},
   "outputs": [
    {
     "data": {
      "application/vnd.jupyter.widget-view+json": {
       "model_id": "4f628c9e72bc40ff9f60a6ae5d88b224",
       "version_major": 2,
       "version_minor": 0
      },
      "text/plain": [
       "Summarize dataset:   0%|          | 0/5 [00:00<?, ?it/s]"
      ]
     },
     "metadata": {},
     "output_type": "display_data"
    },
    {
     "data": {
      "application/vnd.jupyter.widget-view+json": {
       "model_id": "4613155e4fc84288ad4e867cdfe3dbef",
       "version_major": 2,
       "version_minor": 0
      },
      "text/plain": [
       "Generate report structure:   0%|          | 0/1 [00:00<?, ?it/s]"
      ]
     },
     "metadata": {},
     "output_type": "display_data"
    },
    {
     "data": {
      "application/vnd.jupyter.widget-view+json": {
       "model_id": "",
       "version_major": 2,
       "version_minor": 0
      },
      "text/plain": [
       "Render widgets:   0%|          | 0/1 [00:00<?, ?it/s]"
      ]
     },
     "metadata": {},
     "output_type": "display_data"
    },
    {
     "data": {
      "application/vnd.jupyter.widget-view+json": {
       "model_id": "5c2d6ce64f924c468afe03e1da5e700b",
       "version_major": 2,
       "version_minor": 0
      },
      "text/plain": [
       "VBox(children=(Tab(children=(Tab(children=(GridBox(children=(VBox(children=(GridspecLayout(children=(HTML(valu…"
      ]
     },
     "metadata": {},
     "output_type": "display_data"
    }
   ],
   "source": [
    "from pandas_profiling import ProfileReport\n",
    "data_report = ProfileReport(merged, title=\"Pandas Profiling Report Of Data\")\n",
    "data_report.to_widgets()"
   ]
  },
  {
   "cell_type": "code",
   "execution_count": 289,
   "id": "556c0f32",
   "metadata": {},
   "outputs": [],
   "source": [
    "merged['Friendliness'] = ''"
   ]
  },
  {
   "cell_type": "code",
   "execution_count": 335,
   "id": "34647685",
   "metadata": {},
   "outputs": [],
   "source": [
    "# merged.drop('Friendliness', axis=1, inplace=True)\n",
    "merged.head()\n",
    "merged.to_csv('merged_table.csv', index=False)"
   ]
  },
  {
   "cell_type": "code",
   "execution_count": 336,
   "id": "0da3b3b3",
   "metadata": {},
   "outputs": [
    {
     "data": {
      "text/html": [
       "<div>\n",
       "<style scoped>\n",
       "    .dataframe tbody tr th:only-of-type {\n",
       "        vertical-align: middle;\n",
       "    }\n",
       "\n",
       "    .dataframe tbody tr th {\n",
       "        vertical-align: top;\n",
       "    }\n",
       "\n",
       "    .dataframe thead th {\n",
       "        text-align: right;\n",
       "    }\n",
       "</style>\n",
       "<table border=\"1\" class=\"dataframe\">\n",
       "  <thead>\n",
       "    <tr style=\"text-align: right;\">\n",
       "      <th></th>\n",
       "      <th>Word Spacing</th>\n",
       "      <th>Pen Pressure_LOW</th>\n",
       "      <th>Baseline_DESCENDING</th>\n",
       "      <th>Baseline_STRAIGHT</th>\n",
       "      <th>Word Size_NORMAL</th>\n",
       "      <th>Word Size_SMALL</th>\n",
       "      <th>Emotion</th>\n",
       "      <th>Attention</th>\n",
       "      <th>Optimism</th>\n",
       "    </tr>\n",
       "  </thead>\n",
       "  <tbody>\n",
       "    <tr>\n",
       "      <th>0</th>\n",
       "      <td>335.514229</td>\n",
       "      <td>1</td>\n",
       "      <td>0</td>\n",
       "      <td>1</td>\n",
       "      <td>0</td>\n",
       "      <td>1</td>\n",
       "      <td>NaN</td>\n",
       "      <td>NaN</td>\n",
       "      <td>NaN</td>\n",
       "    </tr>\n",
       "    <tr>\n",
       "      <th>1</th>\n",
       "      <td>41.000000</td>\n",
       "      <td>1</td>\n",
       "      <td>0</td>\n",
       "      <td>1</td>\n",
       "      <td>0</td>\n",
       "      <td>1</td>\n",
       "      <td>NaN</td>\n",
       "      <td>NaN</td>\n",
       "      <td>NaN</td>\n",
       "    </tr>\n",
       "    <tr>\n",
       "      <th>2</th>\n",
       "      <td>317.858823</td>\n",
       "      <td>0</td>\n",
       "      <td>0</td>\n",
       "      <td>1</td>\n",
       "      <td>0</td>\n",
       "      <td>1</td>\n",
       "      <td>NaN</td>\n",
       "      <td>NaN</td>\n",
       "      <td>NaN</td>\n",
       "    </tr>\n",
       "    <tr>\n",
       "      <th>3</th>\n",
       "      <td>774.615388</td>\n",
       "      <td>1</td>\n",
       "      <td>0</td>\n",
       "      <td>1</td>\n",
       "      <td>0</td>\n",
       "      <td>1</td>\n",
       "      <td>NaN</td>\n",
       "      <td>NaN</td>\n",
       "      <td>NaN</td>\n",
       "    </tr>\n",
       "    <tr>\n",
       "      <th>4</th>\n",
       "      <td>66.219333</td>\n",
       "      <td>1</td>\n",
       "      <td>0</td>\n",
       "      <td>1</td>\n",
       "      <td>0</td>\n",
       "      <td>0</td>\n",
       "      <td>NaN</td>\n",
       "      <td>NaN</td>\n",
       "      <td>NaN</td>\n",
       "    </tr>\n",
       "  </tbody>\n",
       "</table>\n",
       "</div>"
      ],
      "text/plain": [
       "   Word Spacing  Pen Pressure_LOW  Baseline_DESCENDING  Baseline_STRAIGHT  \\\n",
       "0    335.514229                 1                    0                  1   \n",
       "1     41.000000                 1                    0                  1   \n",
       "2    317.858823                 0                    0                  1   \n",
       "3    774.615388                 1                    0                  1   \n",
       "4     66.219333                 1                    0                  1   \n",
       "\n",
       "   Word Size_NORMAL  Word Size_SMALL  Emotion  Attention  Optimism  \n",
       "0                 0                1      NaN        NaN       NaN  \n",
       "1                 0                1      NaN        NaN       NaN  \n",
       "2                 0                1      NaN        NaN       NaN  \n",
       "3                 0                1      NaN        NaN       NaN  \n",
       "4                 0                0      NaN        NaN       NaN  "
      ]
     },
     "execution_count": 336,
     "metadata": {},
     "output_type": "execute_result"
    }
   ],
   "source": [
    "merged_table = pd.read_csv('merged_table.csv')\n",
    "merged_table.head()\n"
   ]
  },
  {
   "cell_type": "code",
   "execution_count": 337,
   "id": "0cfadd91",
   "metadata": {},
   "outputs": [],
   "source": [
    "attention_list = []\n",
    "for i in range (4000):\n",
    "    if (merged_table['Word Size_SMALL'][i]==1):\n",
    "        attention_list.append(0)\n",
    "    elif (merged_table['Word Size_NORMAL'][i]==1):\n",
    "        attention_list.append(1)\n",
    "    else:\n",
    "        attention_list.append(2)\n",
    "        \n",
    "merged_table['Attention']=attention_list"
   ]
  },
  {
   "cell_type": "code",
   "execution_count": 338,
   "id": "4c1a6b66",
   "metadata": {},
   "outputs": [],
   "source": [
    "emotion_list = []\n",
    "for i in range (4000):\n",
    "    if (merged_table['Pen Pressure_LOW'][i]==1):\n",
    "        emotion_list.append(1)\n",
    "    else:\n",
    "        emotion_list.append(0)\n",
    "        \n",
    "merged_table['Emotion']=emotion_list"
   ]
  },
  {
   "cell_type": "code",
   "execution_count": 419,
   "id": "f04d46ea",
   "metadata": {},
   "outputs": [],
   "source": [
    "optimism_list = []\n",
    "for i in range (4000):\n",
    "    if (merged_table['Baseline_DESCENDING'][i]==1):\n",
    "        optimism_list.append(0)\n",
    "    elif (merged_table['Baseline_STRAIGHT'][i]==1):\n",
    "        optimism_list.append(1)\n",
    "    else:\n",
    "        optimism_list.append(2)\n",
    "        \n",
    "merged_table['Optimism']=optimism_list"
   ]
  },
  {
   "cell_type": "code",
   "execution_count": 417,
   "id": "71cc461b",
   "metadata": {},
   "outputs": [],
   "source": [
    "round_list=[]\n",
    "for i in range (4000):\n",
    "    round_list.append(round(data_frame['Word Spacing'][i]))\n",
    "    \n",
    "merged_table['Word Spacing']=round_list"
   ]
  },
  {
   "cell_type": "code",
   "execution_count": 421,
   "id": "e542fb80",
   "metadata": {},
   "outputs": [],
   "source": [
    "merged_table.head(50)\n",
    "merged_table.to_csv('final_table.csv', index=False)"
   ]
  },
  {
   "cell_type": "markdown",
   "id": "bcf13caf",
   "metadata": {},
   "source": [
    "# ML Model"
   ]
  },
  {
   "cell_type": "code",
   "execution_count": 6,
   "id": "4e37d4b6",
   "metadata": {},
   "outputs": [
    {
     "name": "stderr",
     "output_type": "stream",
     "text": [
      "Matplotlib created a temporary config/cache directory at /var/folders/y8/mpkdd_qj1hg7my1cfjddmmx80000gn/T/matplotlib-yzsl1a5p because the default path (/Users/jeetmukherjee/.matplotlib) is not a writable directory; it is highly recommended to set the MPLCONFIGDIR environment variable to a writable directory, in particular to speed up the import of Matplotlib and to better support multiprocessing.\n"
     ]
    }
   ],
   "source": [
    "import pandas as pd\n",
    "import numpy as np\n",
    "import matplotlib.pyplot as plt\n",
    "import seaborn as sns\n",
    "from pandas_profiling import ProfileReport\n",
    "%matplotlib inline"
   ]
  },
  {
   "cell_type": "code",
   "execution_count": 7,
   "id": "94083802",
   "metadata": {},
   "outputs": [],
   "source": [
    "data_frame = pd.read_csv('final_table_one.csv')"
   ]
  },
  {
   "cell_type": "code",
   "execution_count": 8,
   "id": "de209e8b",
   "metadata": {
    "scrolled": false
   },
   "outputs": [
    {
     "data": {
      "text/html": [
       "<div>\n",
       "<style scoped>\n",
       "    .dataframe tbody tr th:only-of-type {\n",
       "        vertical-align: middle;\n",
       "    }\n",
       "\n",
       "    .dataframe tbody tr th {\n",
       "        vertical-align: top;\n",
       "    }\n",
       "\n",
       "    .dataframe thead th {\n",
       "        text-align: right;\n",
       "    }\n",
       "</style>\n",
       "<table border=\"1\" class=\"dataframe\">\n",
       "  <thead>\n",
       "    <tr style=\"text-align: right;\">\n",
       "      <th></th>\n",
       "      <th>Word Spacing</th>\n",
       "      <th>Pen Pressure_LOW</th>\n",
       "      <th>Baseline_DESCENDING</th>\n",
       "      <th>Baseline_STRAIGHT</th>\n",
       "      <th>Word Size_NORMAL</th>\n",
       "      <th>Word Size_SMALL</th>\n",
       "      <th>Emotion</th>\n",
       "      <th>Attention</th>\n",
       "      <th>Optimism</th>\n",
       "      <th>Size</th>\n",
       "      <th>Pen Pressure</th>\n",
       "    </tr>\n",
       "  </thead>\n",
       "  <tbody>\n",
       "    <tr>\n",
       "      <th>0</th>\n",
       "      <td>336</td>\n",
       "      <td>1</td>\n",
       "      <td>0</td>\n",
       "      <td>1</td>\n",
       "      <td>0</td>\n",
       "      <td>1</td>\n",
       "      <td>1</td>\n",
       "      <td>0</td>\n",
       "      <td>1</td>\n",
       "      <td>0.308738</td>\n",
       "      <td>197</td>\n",
       "    </tr>\n",
       "    <tr>\n",
       "      <th>1</th>\n",
       "      <td>41</td>\n",
       "      <td>1</td>\n",
       "      <td>0</td>\n",
       "      <td>1</td>\n",
       "      <td>0</td>\n",
       "      <td>1</td>\n",
       "      <td>1</td>\n",
       "      <td>0</td>\n",
       "      <td>1</td>\n",
       "      <td>0.904828</td>\n",
       "      <td>173</td>\n",
       "    </tr>\n",
       "    <tr>\n",
       "      <th>2</th>\n",
       "      <td>318</td>\n",
       "      <td>0</td>\n",
       "      <td>0</td>\n",
       "      <td>1</td>\n",
       "      <td>0</td>\n",
       "      <td>1</td>\n",
       "      <td>0</td>\n",
       "      <td>0</td>\n",
       "      <td>1</td>\n",
       "      <td>0.848963</td>\n",
       "      <td>160</td>\n",
       "    </tr>\n",
       "    <tr>\n",
       "      <th>3</th>\n",
       "      <td>775</td>\n",
       "      <td>1</td>\n",
       "      <td>0</td>\n",
       "      <td>1</td>\n",
       "      <td>0</td>\n",
       "      <td>1</td>\n",
       "      <td>1</td>\n",
       "      <td>0</td>\n",
       "      <td>1</td>\n",
       "      <td>0.404309</td>\n",
       "      <td>140</td>\n",
       "    </tr>\n",
       "    <tr>\n",
       "      <th>4</th>\n",
       "      <td>66</td>\n",
       "      <td>1</td>\n",
       "      <td>0</td>\n",
       "      <td>1</td>\n",
       "      <td>0</td>\n",
       "      <td>0</td>\n",
       "      <td>1</td>\n",
       "      <td>2</td>\n",
       "      <td>1</td>\n",
       "      <td>2.316855</td>\n",
       "      <td>136</td>\n",
       "    </tr>\n",
       "    <tr>\n",
       "      <th>...</th>\n",
       "      <td>...</td>\n",
       "      <td>...</td>\n",
       "      <td>...</td>\n",
       "      <td>...</td>\n",
       "      <td>...</td>\n",
       "      <td>...</td>\n",
       "      <td>...</td>\n",
       "      <td>...</td>\n",
       "      <td>...</td>\n",
       "      <td>...</td>\n",
       "      <td>...</td>\n",
       "    </tr>\n",
       "    <tr>\n",
       "      <th>3995</th>\n",
       "      <td>150</td>\n",
       "      <td>1</td>\n",
       "      <td>0</td>\n",
       "      <td>1</td>\n",
       "      <td>1</td>\n",
       "      <td>0</td>\n",
       "      <td>1</td>\n",
       "      <td>1</td>\n",
       "      <td>1</td>\n",
       "      <td>1.067087</td>\n",
       "      <td>160</td>\n",
       "    </tr>\n",
       "    <tr>\n",
       "      <th>3996</th>\n",
       "      <td>150</td>\n",
       "      <td>0</td>\n",
       "      <td>0</td>\n",
       "      <td>1</td>\n",
       "      <td>1</td>\n",
       "      <td>0</td>\n",
       "      <td>0</td>\n",
       "      <td>1</td>\n",
       "      <td>1</td>\n",
       "      <td>1.160686</td>\n",
       "      <td>143</td>\n",
       "    </tr>\n",
       "    <tr>\n",
       "      <th>3997</th>\n",
       "      <td>150</td>\n",
       "      <td>1</td>\n",
       "      <td>0</td>\n",
       "      <td>1</td>\n",
       "      <td>0</td>\n",
       "      <td>0</td>\n",
       "      <td>1</td>\n",
       "      <td>2</td>\n",
       "      <td>1</td>\n",
       "      <td>1.699621</td>\n",
       "      <td>105</td>\n",
       "    </tr>\n",
       "    <tr>\n",
       "      <th>3998</th>\n",
       "      <td>150</td>\n",
       "      <td>0</td>\n",
       "      <td>1</td>\n",
       "      <td>0</td>\n",
       "      <td>0</td>\n",
       "      <td>1</td>\n",
       "      <td>0</td>\n",
       "      <td>0</td>\n",
       "      <td>0</td>\n",
       "      <td>0.432879</td>\n",
       "      <td>106</td>\n",
       "    </tr>\n",
       "    <tr>\n",
       "      <th>3999</th>\n",
       "      <td>150</td>\n",
       "      <td>0</td>\n",
       "      <td>0</td>\n",
       "      <td>1</td>\n",
       "      <td>0</td>\n",
       "      <td>1</td>\n",
       "      <td>0</td>\n",
       "      <td>0</td>\n",
       "      <td>1</td>\n",
       "      <td>0.980824</td>\n",
       "      <td>99</td>\n",
       "    </tr>\n",
       "  </tbody>\n",
       "</table>\n",
       "<p>4000 rows × 11 columns</p>\n",
       "</div>"
      ],
      "text/plain": [
       "      Word Spacing  Pen Pressure_LOW  Baseline_DESCENDING  Baseline_STRAIGHT  \\\n",
       "0              336                 1                    0                  1   \n",
       "1               41                 1                    0                  1   \n",
       "2              318                 0                    0                  1   \n",
       "3              775                 1                    0                  1   \n",
       "4               66                 1                    0                  1   \n",
       "...            ...               ...                  ...                ...   \n",
       "3995           150                 1                    0                  1   \n",
       "3996           150                 0                    0                  1   \n",
       "3997           150                 1                    0                  1   \n",
       "3998           150                 0                    1                  0   \n",
       "3999           150                 0                    0                  1   \n",
       "\n",
       "      Word Size_NORMAL  Word Size_SMALL  Emotion  Attention  Optimism  \\\n",
       "0                    0                1        1          0         1   \n",
       "1                    0                1        1          0         1   \n",
       "2                    0                1        0          0         1   \n",
       "3                    0                1        1          0         1   \n",
       "4                    0                0        1          2         1   \n",
       "...                ...              ...      ...        ...       ...   \n",
       "3995                 1                0        1          1         1   \n",
       "3996                 1                0        0          1         1   \n",
       "3997                 0                0        1          2         1   \n",
       "3998                 0                1        0          0         0   \n",
       "3999                 0                1        0          0         1   \n",
       "\n",
       "          Size  Pen Pressure  \n",
       "0     0.308738           197  \n",
       "1     0.904828           173  \n",
       "2     0.848963           160  \n",
       "3     0.404309           140  \n",
       "4     2.316855           136  \n",
       "...        ...           ...  \n",
       "3995  1.067087           160  \n",
       "3996  1.160686           143  \n",
       "3997  1.699621           105  \n",
       "3998  0.432879           106  \n",
       "3999  0.980824            99  \n",
       "\n",
       "[4000 rows x 11 columns]"
      ]
     },
     "execution_count": 8,
     "metadata": {},
     "output_type": "execute_result"
    }
   ],
   "source": [
    "data_frame.head(5000)"
   ]
  },
  {
   "cell_type": "code",
   "execution_count": 9,
   "id": "41f5299a",
   "metadata": {},
   "outputs": [],
   "source": [
    "from sklearn.linear_model import LogisticRegression\n",
    "from sklearn.model_selection import train_test_split"
   ]
  },
  {
   "cell_type": "code",
   "execution_count": 10,
   "id": "849e7e40",
   "metadata": {},
   "outputs": [],
   "source": [
    "model = LogisticRegression()\n",
    "#reg.fit(data_frame[['Word Spacing', 'Pen Pressure_LOW', 'Baseline_DESCENDING', 'Baseline_STRAIGHT', 'Word Size_NORMAL', 'Word Size_SMALL']], data_frame.Emotion)"
   ]
  },
  {
   "cell_type": "code",
   "execution_count": 11,
   "id": "d28e559c",
   "metadata": {},
   "outputs": [],
   "source": [
    "X=data_frame[['Pen Pressure', 'Baseline_STRAIGHT', 'Word Size_NORMAL', 'Word Size_SMALL', 'Word Spacing']]\n",
    "y=data_frame['Emotion']"
   ]
  },
  {
   "cell_type": "code",
   "execution_count": 12,
   "id": "d81368a5",
   "metadata": {},
   "outputs": [],
   "source": [
    "X_train, X_test, y_train, y_test = train_test_split(X,y,test_size=0.3)"
   ]
  },
  {
   "cell_type": "code",
   "execution_count": 13,
   "id": "4e6acf06",
   "metadata": {},
   "outputs": [
    {
     "data": {
      "text/plain": [
       "LogisticRegression()"
      ]
     },
     "execution_count": 13,
     "metadata": {},
     "output_type": "execute_result"
    }
   ],
   "source": [
    "model.fit(X_train, y_train)"
   ]
  },
  {
   "cell_type": "code",
   "execution_count": 14,
   "id": "b697ec33",
   "metadata": {},
   "outputs": [
    {
     "data": {
      "text/plain": [
       "array([1, 1, 1, ..., 1, 1, 1])"
      ]
     },
     "execution_count": 14,
     "metadata": {},
     "output_type": "execute_result"
    }
   ],
   "source": [
    "model.predict(X_test)"
   ]
  },
  {
   "cell_type": "code",
   "execution_count": 15,
   "id": "77f10fe8",
   "metadata": {
    "scrolled": true
   },
   "outputs": [
    {
     "data": {
      "text/plain": [
       "2969    1\n",
       "753     1\n",
       "3939    1\n",
       "2936    1\n",
       "3619    1\n",
       "       ..\n",
       "3515    1\n",
       "2087    1\n",
       "1847    1\n",
       "570     0\n",
       "2029    1\n",
       "Name: Emotion, Length: 1200, dtype: int64"
      ]
     },
     "execution_count": 15,
     "metadata": {},
     "output_type": "execute_result"
    }
   ],
   "source": [
    "y_test"
   ]
  },
  {
   "cell_type": "code",
   "execution_count": 16,
   "id": "8969a222",
   "metadata": {},
   "outputs": [
    {
     "name": "stdout",
     "output_type": "stream",
     "text": [
      "0.6808333333333333\n",
      "0.6789285714285714\n"
     ]
    }
   ],
   "source": [
    "print(model.score(X_test, y_test))\n",
    "print(model.score(X_train, y_train))"
   ]
  },
  {
   "cell_type": "code",
   "execution_count": 17,
   "id": "37b8c180",
   "metadata": {
    "scrolled": true
   },
   "outputs": [
    {
     "data": {
      "text/plain": [
       "array([1])"
      ]
     },
     "execution_count": 17,
     "metadata": {},
     "output_type": "execute_result"
    }
   ],
   "source": [
    "model.predict([[177, 1, 0, 1, 425]])"
   ]
  },
  {
   "cell_type": "markdown",
   "id": "ab4f510e",
   "metadata": {},
   "source": [
    "## Saving Model Into Pickle File"
   ]
  },
  {
   "cell_type": "code",
   "execution_count": 18,
   "id": "278e1921",
   "metadata": {},
   "outputs": [],
   "source": [
    "import pickle"
   ]
  },
  {
   "cell_type": "code",
   "execution_count": 19,
   "id": "0b2388a9",
   "metadata": {},
   "outputs": [],
   "source": [
    "with open('model_pickle_emo', 'wb') as f:\n",
    "    pickle.dump(model, f)"
   ]
  },
  {
   "cell_type": "code",
   "execution_count": 20,
   "id": "971f2fcd",
   "metadata": {},
   "outputs": [],
   "source": [
    "with open('model_pickle_emo', 'rb') as f:\n",
    "    mp=pickle.load(f)"
   ]
  },
  {
   "cell_type": "code",
   "execution_count": 23,
   "id": "cc676f33",
   "metadata": {},
   "outputs": [],
   "source": [
    "res = mp.predict([[177, 1, 0, 1, 425]])"
   ]
  },
  {
   "cell_type": "code",
   "execution_count": 25,
   "id": "67d10ae8",
   "metadata": {},
   "outputs": [
    {
     "data": {
      "text/plain": [
       "1"
      ]
     },
     "execution_count": 25,
     "metadata": {},
     "output_type": "execute_result"
    }
   ],
   "source": [
    "res[0]"
   ]
  }
 ],
 "metadata": {
  "kernelspec": {
   "display_name": "Python 3 (ipykernel)",
   "language": "python",
   "name": "python3"
  },
  "language_info": {
   "codemirror_mode": {
    "name": "ipython",
    "version": 3
   },
   "file_extension": ".py",
   "mimetype": "text/x-python",
   "name": "python",
   "nbconvert_exporter": "python",
   "pygments_lexer": "ipython3",
   "version": "3.9.7"
  }
 },
 "nbformat": 4,
 "nbformat_minor": 5
}
